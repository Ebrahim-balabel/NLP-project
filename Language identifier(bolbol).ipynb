{
 "cells": [
  {
   "cell_type": "code",
   "execution_count": 1,
   "metadata": {
    "id": "snA72XHgOiuD"
   },
   "outputs": [],
   "source": [
    "import pandas as pd                 # Importing pandas library for data manipulation and analysis\n",
    "import numpy as np                  # Importing numpy library for numerical operations\n",
    "import re                           # Importing re library for regular expression operations\n",
    "import seaborn as sns               # Importing seaborn library for data visualization\n",
    "import matplotlib.pyplot as plt     # Importing matplotlib library for data visualization\n",
    "import nltk                         # Importing nltk library for natural language processing\n",
    "from nltk.tokenize import word_tokenize\n",
    "from nltk.stem import WordNetLemmatizer, PorterStemmer   # Importing WordNetLemmatizer and PorterStemmer classes for text preprocessing\n",
    "from sklearn.preprocessing import LabelEncoder          # Importing LabelEncoder class for encoding categorical variables\n",
    "from sklearn.feature_extraction.text import CountVectorizer   # Importing CountVectorizer class for text preprocessing\n",
    "from sklearn.model_selection import train_test_split    # Importing train_test_split function for splitting data into train and test sets\n",
    "from sklearn.naive_bayes import MultinomialNB            # Importing MultinomialNB class for training a Naive Bayes model\n",
    "from sklearn.metrics import accuracy_score, confusion_matrix, classification_report   # Importing evaluation metrics for measuring the model's performance"
   ]
  },
  {
   "cell_type": "code",
   "execution_count": 2,
   "metadata": {
    "colab": {
     "base_uri": "https://localhost:8080/",
     "height": 363
    },
    "id": "nOL3aEh3O1Hg",
    "outputId": "6ee4bb46-fa14-48dc-f4a2-d29ed375791d"
   },
   "outputs": [
    {
     "data": {
      "text/html": [
       "<div>\n",
       "<style scoped>\n",
       "    .dataframe tbody tr th:only-of-type {\n",
       "        vertical-align: middle;\n",
       "    }\n",
       "\n",
       "    .dataframe tbody tr th {\n",
       "        vertical-align: top;\n",
       "    }\n",
       "\n",
       "    .dataframe thead th {\n",
       "        text-align: right;\n",
       "    }\n",
       "</style>\n",
       "<table border=\"1\" class=\"dataframe\">\n",
       "  <thead>\n",
       "    <tr style=\"text-align: right;\">\n",
       "      <th></th>\n",
       "      <th>Text</th>\n",
       "      <th>Language</th>\n",
       "    </tr>\n",
       "  </thead>\n",
       "  <tbody>\n",
       "    <tr>\n",
       "      <th>0</th>\n",
       "      <td>Nature, in the broadest sense, is the natural...</td>\n",
       "      <td>English</td>\n",
       "    </tr>\n",
       "    <tr>\n",
       "      <th>1</th>\n",
       "      <td>\"Nature\" can refer to the phenomena of the phy...</td>\n",
       "      <td>English</td>\n",
       "    </tr>\n",
       "    <tr>\n",
       "      <th>2</th>\n",
       "      <td>The study of nature is a large, if not the onl...</td>\n",
       "      <td>English</td>\n",
       "    </tr>\n",
       "    <tr>\n",
       "      <th>3</th>\n",
       "      <td>Although humans are part of nature, human acti...</td>\n",
       "      <td>English</td>\n",
       "    </tr>\n",
       "    <tr>\n",
       "      <th>4</th>\n",
       "      <td>[1] The word nature is borrowed from the Old F...</td>\n",
       "      <td>English</td>\n",
       "    </tr>\n",
       "  </tbody>\n",
       "</table>\n",
       "</div>"
      ],
      "text/plain": [
       "                                                Text Language\n",
       "0   Nature, in the broadest sense, is the natural...  English\n",
       "1  \"Nature\" can refer to the phenomena of the phy...  English\n",
       "2  The study of nature is a large, if not the onl...  English\n",
       "3  Although humans are part of nature, human acti...  English\n",
       "4  [1] The word nature is borrowed from the Old F...  English"
      ]
     },
     "execution_count": 2,
     "metadata": {},
     "output_type": "execute_result"
    }
   ],
   "source": [
    "data = pd.read_csv(\"Language Detection.csv\")  # Reading the dataset into a pandas dataframe\n",
    "data.head()                                   # Displaying the first five rows of the dataset"
   ]
  },
  {
   "cell_type": "code",
   "execution_count": 3,
   "metadata": {
    "colab": {
     "base_uri": "https://localhost:8080/"
    },
    "id": "lGk2TUFFOmEZ",
    "outputId": "c849ad0b-6ad2-4a8a-9abf-a295422e2f17"
   },
   "outputs": [
    {
     "data": {
      "text/plain": [
       "English       1385\n",
       "French        1014\n",
       "Spanish        819\n",
       "Portugeese     739\n",
       "Italian        698\n",
       "Russian        692\n",
       "Sweedish       676\n",
       "Malayalam      594\n",
       "Dutch          546\n",
       "Arabic         536\n",
       "Turkish        474\n",
       "German         470\n",
       "Tamil          469\n",
       "Danish         428\n",
       "Kannada        369\n",
       "Greek          365\n",
       "Hindi           63\n",
       "Name: Language, dtype: int64"
      ]
     },
     "execution_count": 3,
     "metadata": {},
     "output_type": "execute_result"
    }
   ],
   "source": [
    "data[\"Language\"].value_counts()    # Counting the number of observations in each language category"
   ]
  },
  {
   "cell_type": "code",
   "execution_count": 4,
   "metadata": {
    "id": "oghcXdaWPR2T"
   },
   "outputs": [],
   "source": [
    "X = data[\"Text\"]                              # Assigning the 'Text' column as input features\n",
    "y = data[\"Language\"]                          # Assigning the 'Language' column as target variable"
   ]
  },
  {
   "cell_type": "code",
   "execution_count": 5,
   "metadata": {
    "id": "trFbBiG0PWcR"
   },
   "outputs": [],
   "source": [
    "le = LabelEncoder()                           # Creating an instance of LabelEncoder\n",
    "y = le.fit_transform(y)                       # Encoding the target variable as integers"
   ]
  },
  {
   "cell_type": "code",
   "execution_count": 6,
   "metadata": {},
   "outputs": [],
   "source": [
    "data_list = []  \n",
    "lemmatizer = WordNetLemmatizer()      # Creating an instance of WordNetLemmatizer\n",
    "stemmer = PorterStemmer()                     # Creating an instance of PorterStemmer\n",
    "for text in X:\n",
    "    text = re.sub(r'[^\\w\\s]', '', text)      # Removing punctuations and special characters from the text\n",
    "    text = re.sub(r'\\d+', '', text)           # Removing digits from the text\n",
    "    text = text.lower()                       # Converting the text to lowercase\n",
    "    text = nltk.word_tokenize(text)       # Tokenizing the text into words\n",
    "    lemmatized_tokens = [lemmatizer.lemmatize(token) for token in text]   # Lemmatizing the tokens\n",
    "    text = ' '.join(lemmatized_tokens)        # Joining the lemmatized tokens to form a text string\n",
    "    data_list.append(text)                    # Appending the preprocessed text to a list\n",
    "\n"
   ]
  },
  {
   "cell_type": "code",
   "execution_count": 7,
   "metadata": {
    "colab": {
     "base_uri": "https://localhost:8080/"
    },
    "id": "m9GIn4fiPdrw",
    "outputId": "8510f7c7-adcb-4363-e29f-9a13000d0a46"
   },
   "outputs": [
    {
     "data": {
      "text/plain": [
       "(10337, 45290)"
      ]
     },
     "execution_count": 7,
     "metadata": {},
     "output_type": "execute_result"
    }
   ],
   "source": [
    "cv = CountVectorizer()                        # Creating an instance of CountVectorizer\n",
    "X = cv.fit_transform(data_list)               # Transforming the preprocessed text into a bag of words model\n",
    "X.shape                                      # Displaying the shape of the transformed data"
   ]
  },
  {
   "cell_type": "code",
   "execution_count": 8,
   "metadata": {
    "id": "bZkj3ywLPhiV"
   },
   "outputs": [],
   "source": [
    "x_train, x_test, y_train, y_test = train_test_split(X, y, test_size = 0.20)  # Splitting the data into training and testing sets\n"
   ]
  },
  {
   "cell_type": "code",
   "execution_count": 9,
   "metadata": {
    "colab": {
     "base_uri": "https://localhost:8080/"
    },
    "id": "VFA7IoXIPj5u",
    "outputId": "0921f4c7-46e4-484e-c3d5-accd53b27465"
   },
   "outputs": [
    {
     "data": {
      "text/html": [
       "<style>#sk-container-id-1 {color: black;background-color: white;}#sk-container-id-1 pre{padding: 0;}#sk-container-id-1 div.sk-toggleable {background-color: white;}#sk-container-id-1 label.sk-toggleable__label {cursor: pointer;display: block;width: 100%;margin-bottom: 0;padding: 0.3em;box-sizing: border-box;text-align: center;}#sk-container-id-1 label.sk-toggleable__label-arrow:before {content: \"▸\";float: left;margin-right: 0.25em;color: #696969;}#sk-container-id-1 label.sk-toggleable__label-arrow:hover:before {color: black;}#sk-container-id-1 div.sk-estimator:hover label.sk-toggleable__label-arrow:before {color: black;}#sk-container-id-1 div.sk-toggleable__content {max-height: 0;max-width: 0;overflow: hidden;text-align: left;background-color: #f0f8ff;}#sk-container-id-1 div.sk-toggleable__content pre {margin: 0.2em;color: black;border-radius: 0.25em;background-color: #f0f8ff;}#sk-container-id-1 input.sk-toggleable__control:checked~div.sk-toggleable__content {max-height: 200px;max-width: 100%;overflow: auto;}#sk-container-id-1 input.sk-toggleable__control:checked~label.sk-toggleable__label-arrow:before {content: \"▾\";}#sk-container-id-1 div.sk-estimator input.sk-toggleable__control:checked~label.sk-toggleable__label {background-color: #d4ebff;}#sk-container-id-1 div.sk-label input.sk-toggleable__control:checked~label.sk-toggleable__label {background-color: #d4ebff;}#sk-container-id-1 input.sk-hidden--visually {border: 0;clip: rect(1px 1px 1px 1px);clip: rect(1px, 1px, 1px, 1px);height: 1px;margin: -1px;overflow: hidden;padding: 0;position: absolute;width: 1px;}#sk-container-id-1 div.sk-estimator {font-family: monospace;background-color: #f0f8ff;border: 1px dotted black;border-radius: 0.25em;box-sizing: border-box;margin-bottom: 0.5em;}#sk-container-id-1 div.sk-estimator:hover {background-color: #d4ebff;}#sk-container-id-1 div.sk-parallel-item::after {content: \"\";width: 100%;border-bottom: 1px solid gray;flex-grow: 1;}#sk-container-id-1 div.sk-label:hover label.sk-toggleable__label {background-color: #d4ebff;}#sk-container-id-1 div.sk-serial::before {content: \"\";position: absolute;border-left: 1px solid gray;box-sizing: border-box;top: 0;bottom: 0;left: 50%;z-index: 0;}#sk-container-id-1 div.sk-serial {display: flex;flex-direction: column;align-items: center;background-color: white;padding-right: 0.2em;padding-left: 0.2em;position: relative;}#sk-container-id-1 div.sk-item {position: relative;z-index: 1;}#sk-container-id-1 div.sk-parallel {display: flex;align-items: stretch;justify-content: center;background-color: white;position: relative;}#sk-container-id-1 div.sk-item::before, #sk-container-id-1 div.sk-parallel-item::before {content: \"\";position: absolute;border-left: 1px solid gray;box-sizing: border-box;top: 0;bottom: 0;left: 50%;z-index: -1;}#sk-container-id-1 div.sk-parallel-item {display: flex;flex-direction: column;z-index: 1;position: relative;background-color: white;}#sk-container-id-1 div.sk-parallel-item:first-child::after {align-self: flex-end;width: 50%;}#sk-container-id-1 div.sk-parallel-item:last-child::after {align-self: flex-start;width: 50%;}#sk-container-id-1 div.sk-parallel-item:only-child::after {width: 0;}#sk-container-id-1 div.sk-dashed-wrapped {border: 1px dashed gray;margin: 0 0.4em 0.5em 0.4em;box-sizing: border-box;padding-bottom: 0.4em;background-color: white;}#sk-container-id-1 div.sk-label label {font-family: monospace;font-weight: bold;display: inline-block;line-height: 1.2em;}#sk-container-id-1 div.sk-label-container {text-align: center;}#sk-container-id-1 div.sk-container {/* jupyter's `normalize.less` sets `[hidden] { display: none; }` but bootstrap.min.css set `[hidden] { display: none !important; }` so we also need the `!important` here to be able to override the default hidden behavior on the sphinx rendered scikit-learn.org. See: https://github.com/scikit-learn/scikit-learn/issues/21755 */display: inline-block !important;position: relative;}#sk-container-id-1 div.sk-text-repr-fallback {display: none;}</style><div id=\"sk-container-id-1\" class=\"sk-top-container\"><div class=\"sk-text-repr-fallback\"><pre>MultinomialNB()</pre><b>In a Jupyter environment, please rerun this cell to show the HTML representation or trust the notebook. <br />On GitHub, the HTML representation is unable to render, please try loading this page with nbviewer.org.</b></div><div class=\"sk-container\" hidden><div class=\"sk-item\"><div class=\"sk-estimator sk-toggleable\"><input class=\"sk-toggleable__control sk-hidden--visually\" id=\"sk-estimator-id-1\" type=\"checkbox\" checked><label for=\"sk-estimator-id-1\" class=\"sk-toggleable__label sk-toggleable__label-arrow\">MultinomialNB</label><div class=\"sk-toggleable__content\"><pre>MultinomialNB()</pre></div></div></div></div></div>"
      ],
      "text/plain": [
       "MultinomialNB()"
      ]
     },
     "execution_count": 9,
     "metadata": {},
     "output_type": "execute_result"
    }
   ],
   "source": [
    "model = MultinomialNB()                       # Initialize a Multinomial Naive Bayes classifier\n",
    "model.fit(x_train, y_train)                   # Training the model on the training set"
   ]
  },
  {
   "cell_type": "code",
   "execution_count": 10,
   "metadata": {
    "id": "KinYxLjtPlvz"
   },
   "outputs": [],
   "source": [
    "y_pred = model.predict(x_test)    #Predict the labels of the test data using the trained classifier."
   ]
  },
  {
   "cell_type": "code",
   "execution_count": 11,
   "metadata": {
    "colab": {
     "base_uri": "https://localhost:8080/"
    },
    "id": "eD8mPDgHPnQq",
    "outputId": "4c60a034-cfe6-48c6-dae2-752154146086"
   },
   "outputs": [
    {
     "name": "stdout",
     "output_type": "stream",
     "text": [
      "Accuracy is : 0.9816247582205029\n"
     ]
    }
   ],
   "source": [
    "ac = accuracy_score(y_test, y_pred)     #Calculate the accuracy of the model by comparing the predicted labels with the actual labels\n",
    "cm = confusion_matrix(y_test, y_pred)    #Generate a confusion matrix to visualize the performance of the model\n",
    "cr = classification_report(y_test, y_pred, target_names=le.classes_)       #Generate a classification report to summarize the performance of the model\n",
    "print(\"Accuracy is :\",ac)      #Print the accuracy of the model"
   ]
  },
  {
   "cell_type": "code",
   "execution_count": 12,
   "metadata": {},
   "outputs": [
    {
     "name": "stdout",
     "output_type": "stream",
     "text": [
      "Confusion Matrix: \n",
      " [[ 93   0   0   2   0   0   0   0   0   0   0   0   0   0   0   0   0]\n",
      " [  0  88   0   1   0   0   0   0   0   0   0   0   0   0   3   0   0]\n",
      " [  0   0 105   3   1   0   0   0   0   0   0   0   0   0   0   0   0]\n",
      " [  0   0   0 288   0   0   0   0   0   0   0   0   0   0   0   0   0]\n",
      " [  0   0   0   0 189   0   0   0   0   0   0   0   0   0   0   0   0]\n",
      " [  0   0   0   3   0  78   0   0   0   0   0   0   0   0   0   0   0]\n",
      " [  0   0   0   1   0   0  91   0   0   0   0   0   0   0   0   0   0]\n",
      " [  0   0   0   0   0   0   0  14   0   0   0   0   0   0   0   0   0]\n",
      " [  0   0   0   0   0   0   0   0 139   0   0   0   0   0   0   0   0]\n",
      " [  0   0   0   1   0   0   0   0   0  85   0   0   0   0   0   0   0]\n",
      " [  0   0   0   3   0   0   0   0   0   0 109   0   0   0   0   0   0]\n",
      " [  0   0   0   1   0   0   0   0   0   0   0 161   0   0   0   0   0]\n",
      " [  0   0   0   4   0   0   0   0   0   0   0   0 140   0   0   0   0]\n",
      " [  0   0   0   2   0   0   0   0   1   0   0   0   0 158   0   0   0]\n",
      " [  0   0   0   2   0   0   0   0   0   0   0   0   0   0 121   0   0]\n",
      " [  0   0   0   4   0   0   0   0   0   0   0   0   0   1   0  88   0]\n",
      " [  0   0   1   3   1   0   0   0   0   0   0   0   0   0   0   0  83]]\n"
     ]
    }
   ],
   "source": [
    "print(\"Confusion Matrix: \\n\", cm)     #Print the confusion matrix\n"
   ]
  },
  {
   "cell_type": "code",
   "execution_count": 13,
   "metadata": {},
   "outputs": [
    {
     "name": "stdout",
     "output_type": "stream",
     "text": [
      "Classification Report: \n",
      "               precision    recall  f1-score   support\n",
      "\n",
      "      Arabic       1.00      0.98      0.99        95\n",
      "      Danish       1.00      0.96      0.98        92\n",
      "       Dutch       0.99      0.96      0.98       109\n",
      "     English       0.91      1.00      0.95       288\n",
      "      French       0.99      1.00      0.99       189\n",
      "      German       1.00      0.96      0.98        81\n",
      "       Greek       1.00      0.99      0.99        92\n",
      "       Hindi       1.00      1.00      1.00        14\n",
      "     Italian       0.99      1.00      1.00       139\n",
      "     Kannada       1.00      0.99      0.99        86\n",
      "   Malayalam       1.00      0.97      0.99       112\n",
      "  Portugeese       1.00      0.99      1.00       162\n",
      "     Russian       1.00      0.97      0.99       144\n",
      "     Spanish       0.99      0.98      0.99       161\n",
      "    Sweedish       0.98      0.98      0.98       123\n",
      "       Tamil       1.00      0.95      0.97        93\n",
      "     Turkish       1.00      0.94      0.97        88\n",
      "\n",
      "    accuracy                           0.98      2068\n",
      "   macro avg       0.99      0.98      0.98      2068\n",
      "weighted avg       0.98      0.98      0.98      2068\n",
      "\n"
     ]
    }
   ],
   "source": [
    "print(\"Classification Report: \\n\", cr)   #Print the classification report"
   ]
  },
  {
   "cell_type": "code",
   "execution_count": 14,
   "metadata": {
    "colab": {
     "base_uri": "https://localhost:8080/",
     "height": 592
    },
    "id": "-mfZRCuKPue1",
    "outputId": "f30f9937-a3c1-4906-8d09-b16858c37164"
   },
   "outputs": [
    {
     "data": {
      "image/png": "[encoded data removed]",
      "text/plain": [
       "<Figure size 2000x1500 with 2 Axes>"
      ]
     },
     "metadata": {},
     "output_type": "display_data"
    }
   ],
   "source": [
    "plt.figure(figsize=(20,15))   #Visualize the confusion matrix as a heatmap\n",
    "sns.heatmap(cm, annot=True)\n",
    "plt.show()"
   ]
  },
  {
   "cell_type": "code",
   "execution_count": 15,
   "metadata": {
    "id": "TNIQttvCP3DL"
   },
   "outputs": [],
   "source": [
    "def predict(text):\n",
    "    x = cv.transform([text]).toarray()  # Convert the text input into a numerical format using CountVectorizer and transform it into a numpy array\n",
    "    lang = model.predict(x)       # Predict the language of the input text using the trained model\n",
    "    lang = le.inverse_transform(lang)   # Inverse transform the predicted label to get the actual language name\n",
    "    print(\"The language is:\", lang[0])   # Print the predicted language name\n",
    "     "
   ]
  },
  {
   "cell_type": "code",
   "execution_count": 16,
   "metadata": {
    "colab": {
     "base_uri": "https://localhost:8080/"
    },
    "id": "ukTD9wuKQFt9",
    "outputId": "1c9d7a7e-fc63-43b3-c1e0-782cc7b0c0c7"
   },
   "outputs": [
    {
     "name": "stdout",
     "output_type": "stream",
     "text": [
      "The language is: Arabic\n",
      "The language is: English\n",
      "The language is: Spanish\n"
     ]
    }
   ],
   "source": [
    "predict(\"صباح الخير \")   #Use the predict function to predict the language of a given text\n",
    "predict(\"hello\")\n",
    "predict(\"hola\")"
   ]
  },
  {
   "cell_type": "code",
   "execution_count": 17,
   "metadata": {
    "id": "xIFr4NfnQUqz"
   },
   "outputs": [
    {
     "name": "stdout",
     "output_type": "stream",
     "text": [
      "The language is: Italian\n"
     ]
    }
   ],
   "source": [
    "predict(\"amico\")"
   ]
  },
  {
   "cell_type": "code",
   "execution_count": null,
   "metadata": {},
   "outputs": [],
   "source": []
  }
 ],
 "metadata": {
  "colab": {
   "name": "Language_Detection(NLP).ipynb",
   "provenance": []
  },
  "kernelspec": {
   "display_name": "Python 3 (ipykernel)",
   "language": "python",
   "name": "python3"
  },
  "language_info": {
   "codemirror_mode": {
    "name": "ipython",
    "version": 3
   },
   "file_extension": ".py",
   "mimetype": "text/x-python",
   "name": "python",
   "nbconvert_exporter": "python",
   "pygments_lexer": "ipython3",
   "version": "3.10.11"
  }
 },
 "nbformat": 4,
 "nbformat_minor": 1
}
